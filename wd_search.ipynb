{
 "cells": [
  {
   "cell_type": "code",
   "execution_count": 12,
   "metadata": {},
   "outputs": [],
   "source": [
    "\"\"\" usage:\n",
    "   python3 wd_search.py <string> [<required types>]\n",
    "   python3 Adobe\n",
    "   python3 Adobe company\n",
    "\"\"\"\n",
    "\n",
    "from wd_search import wd_search, prettyPrint"
   ]
  },
  {
   "cell_type": "code",
   "execution_count": 15,
   "metadata": {},
   "outputs": [],
   "source": [
    "def test(string, types=[]):\n",
    "    print('searching for', string, types)\n",
    "    prettyPrint(wd_search(string, types))"
   ]
  },
  {
   "cell_type": "markdown",
   "metadata": {},
   "source": [
    "Examples to try \n",
    " * test('acrobat')\n",
    " * test('ukraine')\n",
    " * test('anonymous')\n",
    " * test('ibm')\n",
    " * test('black hat')\n",
    " * test('Shadow Brokers')\n",
    " * test('julian assange')\n",
    " * test('ddos')\n",
    " * test('linux')\n",
    " * get_types('Q27134643')"
   ]
  },
  {
   "cell_type": "code",
   "execution_count": 17,
   "metadata": {},
   "outputs": [
    {
     "name": "stdout",
     "output_type": "stream",
     "text": [
      "searching for ddos []\n",
      "[ { 'aliases': ['DDoS'],\n",
      "    'concepturi': 'http://www.wikidata.org/entity/Q17329819',\n",
      "    'description': 'cyber attack',\n",
      "    'id': 'Q17329819',\n",
      "    'label': 'distributed denial-of-service attack',\n",
      "    'match': {'language': 'en', 'text': 'DDoS', 'type': 'alias'},\n",
      "    'types': [('Q4071928', 'cyberattack')]}]\n"
     ]
    }
   ],
   "source": [
    "test('ddos')"
   ]
  },
  {
   "cell_type": "code",
   "execution_count": null,
   "metadata": {},
   "outputs": [],
   "source": []
  }
 ],
 "metadata": {
  "kernelspec": {
   "display_name": "Python 3",
   "language": "python",
   "name": "python3"
  },
  "language_info": {
   "codemirror_mode": {
    "name": "ipython",
    "version": 3
   },
   "file_extension": ".py",
   "mimetype": "text/x-python",
   "name": "python",
   "nbconvert_exporter": "python",
   "pygments_lexer": "ipython3",
   "version": "3.7.0"
  }
 },
 "nbformat": 4,
 "nbformat_minor": 2
}
