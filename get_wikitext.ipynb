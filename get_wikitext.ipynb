{
 "cells": [
  {
   "cell_type": "code",
   "execution_count": 1,
   "metadata": {},
   "outputs": [],
   "source": [
    "import glossary as g\n",
    "import requests\n",
    "import json"
   ]
  },
  {
   "cell_type": "code",
   "execution_count": 2,
   "metadata": {},
   "outputs": [],
   "source": [
    "url = \"https://en.wikipedia.org/wiki/Service_de_Renseignement_de_l%E2%80%99%C3%89tat\""
   ]
  },
  {
   "cell_type": "code",
   "execution_count": 5,
   "metadata": {},
   "outputs": [],
   "source": [
    "wikipedia_query = \"\"\"https://en.wikipedia.org/w/api.php?format=json&action=query&prop=extracts&exintro&explaintext&redirects=1&titles=\"\"\"\n",
    "\n",
    "def get_wikipedia_text(wp_name_or_url):\n",
    "    name = wp_name_or_url.split('/')[-1]\n",
    "    #print('name:', name)\n",
    "    query_url = wikipedia_query + name\n",
    "    #print('query_url:', query_url)\n",
    "    response = requests.get(query_url)\n",
    "    json_data = json.loads(response.text)\n",
    "    result = list(json_data['query']['pages'].values())[0]\n",
    "    return result.get('extract', '')"
   ]
  },
  {
   "cell_type": "code",
   "execution_count": 6,
   "metadata": {},
   "outputs": [
    {
     "data": {
      "text/plain": [
       "'On February 23rd, 2010, members of DC Inside, Humor University, Ruliweb, Daum Truepicture, todayhumor, and various other online communities formed the Terror Action(Response?) Association, and attacked the Japanese website 2ch on March 1st, 2010, the 100th anniversary of the Japan-Korea Treaty of 1910. Since 2004, DC Inside and 2ch has had numerous conflicts both large and small.'"
      ]
     },
     "execution_count": 6,
     "metadata": {},
     "output_type": "execute_result"
    }
   ],
   "source": [
    "get_wikipedia_text('https://en.wikipedia.org/wiki/2010_Japan%E2%80%93South_Korea_cyberwarfare')"
   ]
  },
  {
   "cell_type": "code",
   "execution_count": null,
   "metadata": {},
   "outputs": [],
   "source": []
  }
 ],
 "metadata": {
  "kernelspec": {
   "display_name": "Python 3",
   "language": "python",
   "name": "python3"
  },
  "language_info": {
   "codemirror_mode": {
    "name": "ipython",
    "version": 3
   },
   "file_extension": ".py",
   "mimetype": "text/x-python",
   "name": "python",
   "nbconvert_exporter": "python",
   "pygments_lexer": "ipython3",
   "version": "3.7.0"
  }
 },
 "nbformat": 4,
 "nbformat_minor": 2
}
